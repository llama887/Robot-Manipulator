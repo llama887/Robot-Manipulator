{
 "cells": [
  {
   "cell_type": "markdown",
   "metadata": {},
   "source": [
    "# ROB2004 Final Project - pick and place objects\n",
    "\n",
    "The goal of this project is to solve a simple manipulation task: create a tower of cubes.\n",
    "\n",
    "## Instructions\n",
    "* Solve the problem below.\n",
    "* You will need to submit on Brightspace: \n",
    "    1. the code you wrote to answer the questions in a Jupyter Notebook. The code should be runnable as is.\n",
    "    2. a report (maximum 3 pages) in pdf format detailing the methodology you followed to solve the problem. You should add the plots in the report (does not count for the page limit).\n",
    "* This is an individual project\n",
    "\n",
    "We will use a model of the Frank-Emika Panda robot. This robot has 7 revolute joints and its kinematics is described in the picture below.\n",
    "\n",
    "You will need to install pybullet on your computer. Please reach out as soon as possible for help if you do not know how to do it.\n",
    "\n",
    "<div>\n",
    "<img src=\"./panda.jpg\" width=\"200\"/>\n",
    "</div>"
   ]
  },
  {
   "cell_type": "markdown",
   "metadata": {},
   "source": [
    "# Problem\n",
    "\n",
    "Implement controller(s) using the code skeletong below to get the robot to build a tower of 3 cubes, with the green cube on the bottom and the blue cube on the top. \n",
    "\n",
    "<div>\n",
    "<img src=\"./manipulation_scene.jpg\" width=\"400\"/>\n",
    "</div>\n",
    "\n",
    "You are free to use the methods that you want to solve the task, with the following constraints:\n",
    "* You cannot use any external library apart from numpy and scipy\n",
    "* You need to use at least one controller in the end-effector space\n",
    "* You need to use at least one inverse geometry method\n",
    "* You need to compensate for the gravity of the robot\n",
    "\n",
    "In your report, describe the controller(s) and justify your choices. Analyze the behavior of the system (include plots of the end-effector trajectories, velocities, joint trajectories, etc as you see fit).\n",
    "\n",
    "## Scene details\n",
    "The position of the red cube in the spatial frame is $(0.35,0.58,0.65)$, the green cube is at $(0.2,0.58,0.65)$ and the blue cube at $(0.0,0.58,0.65)$.\n"
   ]
  },
  {
   "cell_type": "code",
   "execution_count": 1,
   "metadata": {},
   "outputs": [],
   "source": [
    "import numpy as np\n",
    "import time\n",
    "\n",
    "import matplotlib.pyplot as plt\n",
    "\n",
    "from panda import Simulator, PandaRobot\n",
    "from scipy import optimize\n",
    "\n",
    "np.set_printoptions(precision=4, suppress = True)"
   ]
  },
  {
   "cell_type": "markdown",
   "metadata": {},
   "source": [
    "# Helper functions\n",
    "\n",
    "We provide a set of helper functions (forward kinematics, Jacobians, gravity terms) that can be used to implement the desired controllers. These functions are implemented in the PandaRobot class (in the panda.py file).\n",
    "Examples are shown below:"
   ]
  },
  {
   "cell_type": "code",
   "execution_count": 2,
   "metadata": {},
   "outputs": [
    {
     "name": "stdout",
     "output_type": "stream",
     "text": [
      "the pose of the end-effector for joint configuration\n",
      "\n",
      " [ 0.      0.      0.     -1.5708  0.      1.5708  0.    ]\n",
      "\n",
      " is\n",
      "\n",
      " [[-0.7071  0.7071  0.      0.    ]\n",
      " [ 0.7071  0.7071 -0.      0.5545]\n",
      " [-0.      0.     -1.      0.6245]\n",
      " [ 0.      0.      0.      1.    ]]\n"
     ]
    }
   ],
   "source": [
    "# create an instance of the helper class\n",
    "my_robot = PandaRobot()\n",
    "\n",
    "# compute the forward kinematics for an arbitrary joint configuration\n",
    "q = np.array([0.,0,0.0,-np.pi/2.,0.,np.pi/2.,0.0])\n",
    "pose = my_robot.FK(q)\n",
    "print(f'the pose of the end-effector for joint configuration\\n\\n {q}\\n\\n is\\n\\n {pose}')"
   ]
  },
  {
   "cell_type": "code",
   "execution_count": 3,
   "metadata": {},
   "outputs": [],
   "source": [
    "# we can also get the Jacobian in various frames \n",
    "# it is sufficient to pass the name of the frame as an argument as shown below\n",
    "\n",
    "q = np.random.uniform(-1,1,7)\n",
    "\n",
    "spatial_jacobian = my_robot.get_jacobian(q, 'S')\n",
    "body_jacobian = my_robot.get_jacobian(q, 'B')\n",
    "\n",
    "# we can even get the Jacobian in a frame place at the same position as the end-effector \n",
    "# frame but oriented like the spatial frame\n",
    "oriented_jacobian = my_robot.get_jacobian(q, 'O')"
   ]
  },
  {
   "cell_type": "code",
   "execution_count": 4,
   "metadata": {},
   "outputs": [
    {
     "name": "stdout",
     "output_type": "stream",
     "text": [
      "for joint configuration \n",
      "\n",
      " [ 0.3114  0.8947  0.7987 -0.2451 -0.0019 -0.3782 -0.2765] \n",
      " \n",
      " the gravity force seen on the joints is \n",
      " \n",
      " [  0.     -47.3276   4.507   12.8845   0.3585  -0.3914   0.    ]\n"
     ]
    }
   ],
   "source": [
    "# finally it is possible to compute the effect of gravity on the joints\n",
    "# this can for example be used to do gravity compensation when controlling the robot\n",
    "\n",
    "q = np.random.uniform(-1,1,7)\n",
    "\n",
    "g = my_robot.g(q)\n",
    "\n",
    "print(f'for joint configuration \\n\\n {q} \\n \\n the gravity force seen on the joints is \\n \\n {g}')"
   ]
  },
  {
   "cell_type": "code",
   "execution_count": 5,
   "metadata": {},
   "outputs": [],
   "source": [
    "def trajectory(position_init, position_goal, t_init, t_goal, t):\n",
    "    T = t_goal - t_init\n",
    "    s = 3/(T**2)*((t-t_init)**2) - 2/ (T**3)*(t-t_init)**3\n",
    "    desired_position = position_init + s * (position_goal - position_init)\n",
    "    desired_velocity = (6/(T**2)*(t-t_init) - 6/(T**3)*(t-t_init)**2) * (position_goal - position_init)\n",
    "    return desired_position, desired_velocity\n",
    "\n",
    "def end_effector_position_error(joint_angles, desired_end_effector_position):\n",
    "    \"\"\"\n",
    "    end_effector_position_error function\n",
    "    input joint_angles (as a 3D vector) and desired_end_effector_position (as a 3D vector)\n",
    "    output the squared distance between the desired end_effector position and the one realized by joint_angles\n",
    "    \"\"\"\n",
    "    p_fk = my_robot.FK(joint_angles)\n",
    "    error = np.subtract(p_fk[:3, 3], desired_end_effector_position)\n",
    "    return error.dot(error)\n",
    "\n",
    "\n",
    "def inverse_geometry(desired_end_effector_position):\n",
    "    \"\"\"\n",
    "    inverse geometry function\n",
    "    input desired_end_effector_position (3D vector of desired position of the end_effector)\n",
    "    output a vector of joint angles\n",
    "    \"\"\"\n",
    "    res = optimize.minimize(end_effector_position_error, np.zeros(7), args = (desired_end_effector_position))\n",
    "    return res.x\n"
   ]
  },
  {
   "cell_type": "markdown",
   "metadata": {},
   "source": [
    "# Code Skeleton for the simulation\n",
    "\n",
    "Feel free to change the `run_time` variable to match your needs. The class `Simulator` contains all the code for the simulation. The code skeleton currently does not do anything.\n",
    "\n",
    "Importantly you can control both the joints and the gripper of the robot:\n",
    "* `simulator.send_joint_torque(joint_torques)` sends a vector of dimension 7 setting the torques of the joints\n",
    "* `simulator.gripper_move(gripper_position)` sends a vector of dimension 2 setting the position of the fingers of the gripper. The fingers can have positions from 0 to 0.04cm (you can fully close the gripper by setting `simulator.gripper_move([0,0])` and fully open it by setting `simulator.gripper_move([0.04,0.04)`)"
   ]
  },
  {
   "cell_type": "code",
   "execution_count": 6,
   "metadata": {},
   "outputs": [],
   "source": [
    "# here we create a simulation and reset the state of the robot\n",
    "simulator = Simulator()\n",
    "simulator.reset_state([0.,0,0.0,-np.pi/2.,0.,np.pi/2.,0.0])\n",
    "simulator.gripper_move([0.04,0.04])\n",
    "\n",
    "my_robot = PandaRobot()\n",
    "\n",
    "\n",
    "\n",
    "# we store information\n",
    "ndofs = 7 # number of degrees of freedom (excluding the gripper)\n",
    "#The position of the red cube in the spatial frame is $(0.35,0.58,0.65)$, the green cube is at $(0.2,0.58,0.65)$ and the blue cube at $(0.0,0.58,0.65)$\n",
    "red_cube = np.array([0.35,0.58,0.65])\n",
    "green_cube = np.array([0.2,0.58,0.65])\n",
    "blue_cube = np.array([0.0,0.58,0.65])\n",
    "desired_position = np.array([0,0,0])\n",
    "desired_velocity = np.array([0,0,0])\n",
    "time_to_goal = 0.75\n",
    "\n",
    "\n",
    "above_red = red_cube\n",
    "red_cube = red_cube - np.array([0.004, -0.04, 0.34])\n",
    "above_blue = blue_cube\n",
    "blue_cube = blue_cube - np.array([0.00355,-0.0795, 0.402+0.062])\n",
    "above_green = green_cube\n",
    "green_cube = green_cube - np.array([0.0035,-0.05,0.34])\n",
    "top_stack = green_cube - np.array([0.004,0,-0.1])\n",
    "goals = [above_red, red_cube, [0,0], red_cube, above_green, green_cube, [0.04,0.04], above_green, blue_cube, [0,0], blue_cube, above_green, top_stack, [0.04,0.04], above_green]\n",
    "end_effector_starting_pose = my_robot.FK(simulator.get_state()[0])[:3, 3]\n",
    "\n",
    "\n",
    "run_time = time_to_goal*len(goals)\n",
    "# simulation time step\n",
    "dt = 0.005\n",
    "num_steps = int(run_time/dt)\n",
    "time = np.zeros([num_steps])\n",
    "\n",
    "K_P = np.array([1.0, 1.0, 1.0]) * 5\n",
    "K_D = np.array([1.0, 1.0, 1.0, 1.0, 1.0, 1.0, 1.0])*30\n",
    "\n",
    "previous_goal = [0.,0,0.0,-np.pi/2.,0.,np.pi/2.,0.0]\n",
    "goal = inverse_geometry(goals[0])\n",
    "\n",
    "### this is the main control loop\n",
    "for i in range(num_steps):\n",
    "    # get the current time and save it\n",
    "    time[i] = dt * i\n",
    "    \n",
    "    # we get the position and velocities of the joints\n",
    "    q, dq = simulator.get_state()\n",
    "    pose = my_robot.FK(q)\n",
    "    end_effector_position = pose[:3,3]\n",
    "    \n",
    "    goal_index = int(time[i]//time_to_goal)\n",
    "    if np.array(goals[goal_index]).shape == (2,):\n",
    "        simulator.gripper_move(goals[goal_index])\n",
    "        continue\n",
    "    else:\n",
    "        previous_goal = goal\n",
    "        goal = inverse_geometry(goals[goal_index])\n",
    "    start_position = previous_goal\n",
    "    start_time = time_to_goal*goal_index\n",
    "    end_time = start_time + time_to_goal\n",
    "    trajectory_position, trajectory_velocity = trajectory(start_position, goal, start_time, end_time, time[i])\n",
    "    \n",
    "    J = my_robot.get_jacobian(q, 'O')\n",
    "\n",
    "    v_des = (J[3:] @ trajectory_velocity)+ K_P * (my_robot.FK(trajectory_position)[:3,3]-end_effector_position)\n",
    "    joint_velocity_des = np.linalg.pinv(J[3:]) @ v_des\n",
    "    joint_torques = K_D * (joint_velocity_des - dq)\n",
    "    simulator.send_joint_torque((joint_torques+my_robot.g(q)))\n",
    "    simulator.step()"
   ]
  }
 ],
 "metadata": {
  "kernelspec": {
   "display_name": "Python 3 (ipykernel)",
   "language": "python",
   "name": "python3"
  },
  "language_info": {
   "codemirror_mode": {
    "name": "ipython",
    "version": 3
   },
   "file_extension": ".py",
   "mimetype": "text/x-python",
   "name": "python",
   "nbconvert_exporter": "python",
   "pygments_lexer": "ipython3",
   "version": "3.12.3"
  }
 },
 "nbformat": 4,
 "nbformat_minor": 4
}
